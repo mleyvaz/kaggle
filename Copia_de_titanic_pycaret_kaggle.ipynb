{
  "nbformat": 4,
  "nbformat_minor": 0,
  "metadata": {
    "colab": {
      "name": "Copia de titanic-pycaret-kaggle",
      "provenance": [],
      "authorship_tag": "ABX9TyNTu04wJJLKNAx88XS95G9F",
      "include_colab_link": true
    },
    "kernelspec": {
      "display_name": "Python 3",
      "name": "python3"
    }
  },
  "cells": [
    {
      "cell_type": "markdown",
      "metadata": {
        "id": "view-in-github",
        "colab_type": "text"
      },
      "source": [
        "<a href=\"https://colab.research.google.com/github/mleyvaz/kaggle/blob/main/Copia_de_titanic_pycaret_kaggle.ipynb\" target=\"_parent\"><img src=\"https://colab.research.google.com/assets/colab-badge.svg\" alt=\"Open In Colab\"/></a>"
      ]
    },
    {
      "cell_type": "code",
      "metadata": {
        "id": "2omZRs_8tXfB"
      },
      "source": [
        "!pip install kaggle"
      ],
      "execution_count": null,
      "outputs": []
    },
    {
      "cell_type": "code",
      "metadata": {
        "id": "1gX7639Otw3b"
      },
      "source": [
        "!pip install pycaret"
      ],
      "execution_count": null,
      "outputs": []
    },
    {
      "cell_type": "code",
      "metadata": {
        "id": "om1XneMmuKQk"
      },
      "source": [
        "from google.colab import drive\r\n",
        "drive.mount('/content/gdrive')"
      ],
      "execution_count": null,
      "outputs": []
    },
    {
      "cell_type": "code",
      "metadata": {
        "id": "o1jouiPUveht"
      },
      "source": [
        "import os \r\n",
        "os.environ['KAGGLE_CONFIG_DIR']=\"/content/gdrive/MyDrive/pycaret\"\r\n"
      ],
      "execution_count": null,
      "outputs": []
    },
    {
      "cell_type": "code",
      "metadata": {
        "id": "SNmyAKSkwd8l"
      },
      "source": [
        "%cd /content/gdrive/MyDrive/pycaret"
      ],
      "execution_count": null,
      "outputs": []
    },
    {
      "cell_type": "code",
      "metadata": {
        "id": "CCB_l5zNxbJQ"
      },
      "source": [
        "!kaggle competitions download -c titanic"
      ],
      "execution_count": null,
      "outputs": []
    },
    {
      "cell_type": "code",
      "metadata": {
        "id": "v55SauWlx4Aw"
      },
      "source": [
        "import pandas as  pd\r\n",
        "data=pd.read_csv(\"train.csv\")\r\n",
        "data.head()"
      ],
      "execution_count": null,
      "outputs": []
    },
    {
      "cell_type": "code",
      "metadata": {
        "id": "x8tZTl6o0Mmp"
      },
      "source": [
        "from pycaret.classification import *\r\n",
        "clf1=setup(data=data, target='Survived', ignore_features=['Name', 'Ticket','PassengerId' ])"
      ],
      "execution_count": null,
      "outputs": []
    },
    {
      "cell_type": "code",
      "metadata": {
        "id": "d2yI7_to1PIt"
      },
      "source": [
        "compare_models()"
      ],
      "execution_count": null,
      "outputs": []
    },
    {
      "cell_type": "code",
      "metadata": {
        "id": "W66Q4xGR2FpN"
      },
      "source": [
        "dt=create_model('gbc')"
      ],
      "execution_count": null,
      "outputs": []
    },
    {
      "cell_type": "code",
      "metadata": {
        "id": "MMHl0aTE2cYP"
      },
      "source": [
        "tune=tune_model(dt,optimize=\"Accuracy\")"
      ],
      "execution_count": null,
      "outputs": []
    },
    {
      "cell_type": "code",
      "metadata": {
        "id": "NDj8-CWd3dMH"
      },
      "source": [
        "evaluate_model(tune)"
      ],
      "execution_count": null,
      "outputs": []
    },
    {
      "cell_type": "code",
      "metadata": {
        "id": "Bwnks7il4A1n"
      },
      "source": [
        "final=finalize_model(tune)\r\n",
        "print(final)"
      ],
      "execution_count": null,
      "outputs": []
    },
    {
      "cell_type": "code",
      "metadata": {
        "id": "l6vKxbqd62h5"
      },
      "source": [
        "test=pd.read_csv(\"test.csv\")\r\n",
        "ids = test[['PassengerId']] # create a sub-dataset for submission file and saving it\r\n",
        "\r\n",
        "\r\n",
        "\r\n"
      ],
      "execution_count": null,
      "outputs": []
    },
    {
      "cell_type": "code",
      "metadata": {
        "id": "oX-6vEehVGXs"
      },
      "source": [
        "\r\n",
        "predictions=predict_model(final,data=test)\r\n",
        "predictions.head()"
      ],
      "execution_count": null,
      "outputs": []
    },
    {
      "cell_type": "code",
      "metadata": {
        "id": "Ha1fVWMjX_HQ"
      },
      "source": [
        "results = ids.assign(Survived = predictions['Label']) # assign predictions to ids\r\n",
        "results.to_csv(\"titanic-results2.csv\", index=False) # write the final dataset to a csv file.\r\n",
        "results.head()"
      ],
      "execution_count": null,
      "outputs": []
    },
    {
      "cell_type": "code",
      "metadata": {
        "id": "xCOW_U1PZPd2"
      },
      "source": [
        "!kaggle competitions submit -c titanic -f titanic-results2.csv -m \"Pycaret-gbc\""
      ],
      "execution_count": null,
      "outputs": []
    },
    {
      "cell_type": "code",
      "metadata": {
        "id": "yhjNMmyxPWEU"
      },
      "source": [
        "from pycaret.utils import enable_colab\r\n",
        "enable_colab()"
      ],
      "execution_count": null,
      "outputs": []
    },
    {
      "cell_type": "code",
      "metadata": {
        "colab": {
          "background_save": true
        },
        "id": "RL5swrJLKPwN"
      },
      "source": [
        "\r\n",
        "bagged_dt = ensemble_model(dt, method = 'Boosting')\r\n",
        "tune=tune_model(bagged_dt,optimize=\"Accuracy\")\r\n",
        "evaluate_model(tune)\r\n",
        "final=finalize_model(tune)\r\n",
        "\r\n",
        "test=pd.read_csv(\"test.csv\")\r\n",
        "ids = test[['PassengerId']] # create a sub-dataset for submission file and saving it\r\n",
        "predictions=predict_model(final,data=test)\r\n",
        "predictions.head()\r\n",
        "results = ids.assign(Survived = predictions['Label']) # assign predictions to ids\r\n",
        "results.to_csv(\"titanic-resultsE.csv\", index=False) # write the final dataset to a csv file.\r\n",
        "!kaggle competitions submit -c titanic -f titanic-resultsE.csv -m \"Pycaret-ensemble\"\r\n"
      ],
      "execution_count": null,
      "outputs": []
    }
  ]
}