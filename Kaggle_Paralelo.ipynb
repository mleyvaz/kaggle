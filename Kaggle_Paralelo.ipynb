{
  "nbformat": 4,
  "nbformat_minor": 0,
  "metadata": {
    "colab": {
      "name": "Kaggle_Paralelo",
      "provenance": [],
      "collapsed_sections": [],
      "authorship_tag": "ABX9TyMXS939jRIrzqnMGGH5UUyj",
      "include_colab_link": true
    },
    "kernelspec": {
      "display_name": "Python 3",
      "name": "python3"
    },
    "accelerator": "GPU"
  },
  "cells": [
    {
      "cell_type": "markdown",
      "metadata": {
        "id": "view-in-github",
        "colab_type": "text"
      },
      "source": [
        "<a href=\"https://colab.research.google.com/github/mleyvaz/kaggle/blob/main/Kaggle_Paralelo.ipynb\" target=\"_parent\"><img src=\"https://colab.research.google.com/assets/colab-badge.svg\" alt=\"Open In Colab\"/></a>"
      ]
    },
    {
      "cell_type": "code",
      "metadata": {
        "id": "hT8wfTk-jB3S"
      },
      "source": [
        "!pip install -q tpot"
      ],
      "execution_count": null,
      "outputs": []
    },
    {
      "cell_type": "code",
      "metadata": {
        "id": "r9Sb5xxK1GoT"
      },
      "source": [
        "!pip install -q dask_ml"
      ],
      "execution_count": null,
      "outputs": []
    },
    {
      "cell_type": "code",
      "metadata": {
        "id": "l7PTCCQl1LO2"
      },
      "source": [
        "pip install -q dask-cuda distributed --upgrade "
      ],
      "execution_count": null,
      "outputs": []
    },
    {
      "cell_type": "code",
      "metadata": {
        "id": "2lcAkkyn3-id"
      },
      "source": [
        "import tpot\n",
        "from tpot import TPOTClassifier"
      ],
      "execution_count": null,
      "outputs": []
    },
    {
      "cell_type": "code",
      "metadata": {
        "id": "-d8ukkyVVDFO",
        "colab": {
          "base_uri": "https://localhost:8080/"
        },
        "outputId": "bf4e5380-2207-489d-bb87-9a259e864597"
      },
      "source": [
        "from google.colab import drive\n",
        "drive.mount('/content/gdrive')"
      ],
      "execution_count": null,
      "outputs": [
        {
          "output_type": "stream",
          "text": [
            "Drive already mounted at /content/gdrive; to attempt to forcibly remount, call drive.mount(\"/content/gdrive\", force_remount=True).\n"
          ],
          "name": "stdout"
        }
      ]
    },
    {
      "cell_type": "code",
      "metadata": {
        "id": "H7jrSRznXHlf"
      },
      "source": [
        "import os \n",
        "os.environ ['KAGGLE_CONFIG_DIR'] = \"/content/gdrive/My Drive/Kaggle\"\n",
        "# / content / gdrive / My Drive / Kaggle es la ruta donde kaggle.json está presente en Google Drive"
      ],
      "execution_count": null,
      "outputs": []
    },
    {
      "cell_type": "code",
      "metadata": {
        "id": "XK9x4CuyXnrk",
        "colab": {
          "base_uri": "https://localhost:8080/"
        },
        "outputId": "9e10ea31-19d9-4eb1-ef54-ccbb459d4dbc"
      },
      "source": [
        "#changing the working directory\n",
        "%cd /content/gdrive/My Drive/Kaggle"
      ],
      "execution_count": null,
      "outputs": [
        {
          "output_type": "stream",
          "text": [
            "/content/gdrive/My Drive/Kaggle\n"
          ],
          "name": "stdout"
        }
      ]
    },
    {
      "cell_type": "code",
      "metadata": {
        "id": "ITkZm6cLX9cK"
      },
      "source": [
        "#Verificando el directoria de trabajo actual\n",
        "!pwd\n",
        "# Let's make sure the kaggle.json file is present.\n",
        "!ls -lha kaggle.json"
      ],
      "execution_count": null,
      "outputs": []
    },
    {
      "cell_type": "code",
      "metadata": {
        "id": "iOaz7skNkSiD"
      },
      "source": [
        "# Next, install the Kaggle API client.\n",
        "!pip install -q kaggle"
      ],
      "execution_count": null,
      "outputs": []
    },
    {
      "cell_type": "code",
      "metadata": {
        "id": "i7v2ynLfahxu",
        "colab": {
          "base_uri": "https://localhost:8080/"
        },
        "outputId": "22856545-228e-44a3-b2ba-5ee83d73b862"
      },
      "source": [
        "!kaggle competitions download -c titanic"
      ],
      "execution_count": null,
      "outputs": [
        {
          "output_type": "stream",
          "text": [
            "401 - Unauthorized\n"
          ],
          "name": "stdout"
        }
      ]
    },
    {
      "cell_type": "code",
      "metadata": {
        "id": "jUz1BiVomutl"
      },
      "source": [
        "!ls"
      ],
      "execution_count": null,
      "outputs": []
    },
    {
      "cell_type": "code",
      "metadata": {
        "id": "MnJSXhBtmn3D"
      },
      "source": [
        "import pandas as pd\n",
        "train = pd.read_csv(\"train.csv\") #load the data from the system\n",
        "train = train.drop(['Cabin'], 1, inplace=False) # First dropping 'Cabin' column because it has a lot of null values.\n",
        "train = train.dropna() #delete the rows with empty values\n",
        "y = train['Survived'] #select the column representing survival \n",
        "X = train.drop(['Survived', 'PassengerId', 'Name', 'Ticket'], 1, inplace=True) # drop the irrelevant columns and keep the rest\n",
        "X = pd.get_dummies(train) # convert non-numerical variables to dummy variables\n"
      ],
      "execution_count": null,
      "outputs": []
    },
    {
      "cell_type": "code",
      "metadata": {
        "id": "l9wWQybQpcvx"
      },
      "source": [
        "import time\n",
        "startTime = time.time()\n",
        "from tpot import TPOTClassifier\n",
        "tpot = TPOTClassifier(generations=5, population_size=6,  verbosity=2)\n",
        "tpot.fit(X, y)\n",
        "print(\"Total runtime: \", time.time()-startTime,\"s\")"
      ],
      "execution_count": null,
      "outputs": []
    },
    {
      "cell_type": "code",
      "metadata": {
        "id": "uIcAfQIFTGBv"
      },
      "source": [
        ""
      ],
      "execution_count": null,
      "outputs": []
    },
    {
      "cell_type": "code",
      "metadata": {
        "id": "QQPSpTY0TGaG"
      },
      "source": [
        ""
      ],
      "execution_count": null,
      "outputs": []
    },
    {
      "cell_type": "code",
      "metadata": {
        "id": "l6fNa38IpUAZ"
      },
      "source": [
        "\n",
        "test = pd.read_csv(\"test.csv\") # load the testing data\n",
        "ids = test[['PassengerId']] # create a sub-dataset for submission file and saving it\n",
        "test.drop(['PassengerId', 'Name', 'Ticket', 'Cabin'], 1, inplace=True) # drop the irrelevant and keeping the rest\n",
        "test.fillna(2, inplace=True) # fill (instead of drop) empty rows so that I would get the exact row number required for submission\n",
        "test = pd.get_dummies(test) # convert non-numerical variables to dummy variables"
      ],
      "execution_count": null,
      "outputs": []
    },
    {
      "cell_type": "code",
      "metadata": {
        "id": "s0-JTplvxDYb"
      },
      "source": [
        "predictions = tpot.predict(test)"
      ],
      "execution_count": null,
      "outputs": []
    },
    {
      "cell_type": "code",
      "metadata": {
        "id": "aZHtDULZxJhN"
      },
      "source": [
        "results = ids.assign(Survived = predictions) # assign predictions to ids\n",
        "results.to_csv(\"titanic-results3.csv\", index=False) # write the final dataset to a csv file.\n"
      ],
      "execution_count": null,
      "outputs": []
    },
    {
      "cell_type": "code",
      "metadata": {
        "id": "GAQTCyMZxNUn"
      },
      "source": [
        "!ls"
      ],
      "execution_count": null,
      "outputs": []
    },
    {
      "cell_type": "code",
      "metadata": {
        "id": "icjlUD7UzT-M"
      },
      "source": [
        "!kaggle competitions list -s <Keywords>"
      ],
      "execution_count": null,
      "outputs": []
    },
    {
      "cell_type": "code",
      "metadata": {
        "id": "WQC7PokCy82R"
      },
      "source": [
        "!kaggle competitions submit -c titanic -f titanic-results3.csv -m \"Tpot\""
      ],
      "execution_count": null,
      "outputs": []
    },
    {
      "cell_type": "code",
      "metadata": {
        "id": "P1hhTRWMosnV"
      },
      "source": [
        "!nvidia-smi"
      ],
      "execution_count": null,
      "outputs": []
    },
    {
      "cell_type": "code",
      "metadata": {
        "id": "096Q330cxRgc"
      },
      "source": [
        "pip install \"dask[dataframe]\""
      ],
      "execution_count": null,
      "outputs": []
    },
    {
      "cell_type": "code",
      "metadata": {
        "id": "_zjwFgfGwtQY"
      },
      "source": [
        "import dask.dataframe as dd\n",
        "df_dd = dd.read_csv('train.csv')"
      ],
      "execution_count": null,
      "outputs": []
    },
    {
      "cell_type": "code",
      "metadata": {
        "id": "1fcpEqq_zTor"
      },
      "source": [
        "df_dd.visualize()"
      ],
      "execution_count": null,
      "outputs": []
    },
    {
      "cell_type": "code",
      "metadata": {
        "id": "XtGaaupp5EkO"
      },
      "source": [
        "df_dd.max().compute()"
      ],
      "execution_count": null,
      "outputs": []
    },
    {
      "cell_type": "code",
      "metadata": {
        "id": "BGx4DJIP5nzp"
      },
      "source": [
        ""
      ],
      "execution_count": null,
      "outputs": []
    },
    {
      "cell_type": "code",
      "metadata": {
        "id": "sfFuVpQy5pEE"
      },
      "source": [
        ""
      ],
      "execution_count": null,
      "outputs": []
    },
    {
      "cell_type": "code",
      "metadata": {
        "id": "Yz-4mxZh5IQE"
      },
      "source": [
        "df_dd.max().visualize()"
      ],
      "execution_count": null,
      "outputs": []
    },
    {
      "cell_type": "code",
      "metadata": {
        "id": "EbSI8pBr5p4q"
      },
      "source": [
        ""
      ],
      "execution_count": null,
      "outputs": []
    },
    {
      "cell_type": "code",
      "metadata": {
        "id": "BwN00iqB5S3E"
      },
      "source": [
        "df_dd = df_dd.repartition(npartitions=5)\n",
        "df_dd.visualize()"
      ],
      "execution_count": null,
      "outputs": []
    },
    {
      "cell_type": "code",
      "metadata": {
        "id": "XqFeCQ_w5w9y"
      },
      "source": [
        "df_dd.max().compute()"
      ],
      "execution_count": null,
      "outputs": []
    }
  ]
}